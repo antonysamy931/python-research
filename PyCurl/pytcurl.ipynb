{
 "cells": [
  {
   "cell_type": "code",
   "execution_count": null,
   "metadata": {},
   "outputs": [],
   "source": [
    "from bs4 import BeautifulSoup\n",
    "import requests\n",
    "import html5lib\n",
    "import sqlite3\n",
    "import uuid\n",
    "import re\n",
    "import json\n",
    "import time\n",
    "import concurrent.futures"
   ]
  },
  {
   "cell_type": "code",
   "execution_count": null,
   "metadata": {},
   "outputs": [],
   "source": [
    "connection = sqlite3.connect('MovieData.db')\n",
    "cur = connection.cursor()"
   ]
  },
  {
   "cell_type": "code",
   "execution_count": null,
   "metadata": {},
   "outputs": [],
   "source": [
    "table1 = 'CREATE TABLE IF NOT EXISTS MovieIndex(Id, Name, Url)'\n",
    "cur.execute(table1)"
   ]
  },
  {
   "cell_type": "code",
   "execution_count": null,
   "metadata": {},
   "outputs": [],
   "source": [
    "baseurl = 'https://tamilpaatu.com'\n",
    "requesturl = baseurl + '/movie-index'"
   ]
  },
  {
   "cell_type": "code",
   "execution_count": null,
   "metadata": {},
   "outputs": [],
   "source": [
    "def getsoup(url):\n",
    "    headers = {'User-Agent': \"Mozilla/5.0 (Macintosh; Intel Mac OS X 10_15_7) AppleWebKit/537.36 (KHTML, like Gecko) Chrome/114.0.0.0 Safari/537.36\"}\n",
    "    source = requests.get(url, headers= headers)\n",
    "    return BeautifulSoup(source.content, 'html5lib')"
   ]
  },
  {
   "cell_type": "code",
   "execution_count": null,
   "metadata": {},
   "outputs": [],
   "source": [
    "movieindexpage = getsoup(requesturl)\n",
    "tagDiv = movieindexpage.find('div', class_='tagdiv')\n",
    "movieIndex = tagDiv.find_all('a')\n",
    "for el in movieIndex:\n",
    "    indexname = el.text\n",
    "    url = baseurl + el.get('href')\n",
    "    indexquery = 'SELECT 1 FROM MovieIndex WHERE Url = ?'\n",
    "    indexres = cur.execute(indexquery, [url])\n",
    "    if indexres.fetchone() is None:\n",
    "        cur.execute('INSERT INTO MovieIndex VALUES (?, ?, ?)', [str(uuid.uuid4()), indexname, url])"
   ]
  },
  {
   "cell_type": "code",
   "execution_count": null,
   "metadata": {},
   "outputs": [],
   "source": [
    "connection.commit()"
   ]
  },
  {
   "cell_type": "code",
   "execution_count": null,
   "metadata": {},
   "outputs": [],
   "source": [
    "table2 = 'CREATE TABLE IF NOT EXISTS MoviePage(Id, Name, Url, WebpSrc, JpegSrc)'\n",
    "cur.execute(table2)"
   ]
  },
  {
   "cell_type": "code",
   "execution_count": null,
   "metadata": {},
   "outputs": [],
   "source": [
    "song_pages = []\n",
    "retrive_pages = []\n",
    "def page_data_parse(href):\n",
    "    songpage = getsoup(href)\n",
    "    songscontainer = songpage.find('div', class_='botlist')\n",
    "    if songscontainer is None:\n",
    "        if href not in retrive_pages:\n",
    "            retrive_pages.append(href)\n",
    "        return\n",
    "    songs = songscontainer.find_all('div', class_='a-i')\n",
    "    for song in songs:\n",
    "        el = song.find('a')\n",
    "        song_href = baseurl + el.get('href')\n",
    "        picture = el.find('picture')\n",
    "        webp_src = baseurl + picture.find_all('source')[0].get('srcset')\n",
    "        jpeg_src = baseurl + picture.find_all('source')[1].get('srcset')\n",
    "        info = el.find('div', class_='info')\n",
    "        title = info.find('h2').text\n",
    "        \n",
    "        song_query = 'SELECT 1 FROM MoviePage WHERE Url = ?'\n",
    "        song_res = cur.execute(song_query, [song_href])\n",
    "        if song_res.fetchone() is None:\n",
    "            song_insert_query = 'INSERT INTO MoviePage VALUES (?, ?, ?, ?, ?)'\n",
    "            cur.execute(song_insert_query, [str(uuid.uuid4()), title, song_href, webp_src, jpeg_src])\n",
    "            connection.commit()\n",
    "            \n",
    "        if song_href not in song_pages:\n",
    "            song_pages.append(song.find('a').get('href'))\n",
    "\n",
    "    pagination_container = songscontainer.find('nav', class_='pagination')\n",
    "    next_page_container = pagination_container.find('span', class_='next')\n",
    "    next_page = next_page_container.find('a')\n",
    "    \n",
    "    if href in retrive_pages:\n",
    "        retrive_pages.remove(href)\n",
    "\n",
    "    if next_page is None:\n",
    "        return\n",
    "    next_page_href = next_page.get('href')\n",
    "    page_data_parse(baseurl + next_page_href)"
   ]
  },
  {
   "cell_type": "code",
   "execution_count": null,
   "metadata": {},
   "outputs": [],
   "source": [
    "movie_index_query = 'SELECT Url FROM MovieIndex'\n",
    "movie_index_res = cur.execute(movie_index_query)\n",
    "movieIndexHref = movie_index_res.fetchall()\n",
    "for moviepage in movieIndexHref:    \n",
    "    page_data_parse(moviepage[0])"
   ]
  },
  {
   "cell_type": "code",
   "execution_count": null,
   "metadata": {},
   "outputs": [],
   "source": [
    "while 1:\n",
    "    for moviepage in retrive_pages:\n",
    "        page_data_parse(moviepage)\n",
    "    if len(retrive_pages) == 0:\n",
    "        break"
   ]
  },
  {
   "cell_type": "code",
   "execution_count": null,
   "metadata": {},
   "outputs": [],
   "source": [
    "def get_detail(id, uri, title):\n",
    "    songdetail_soap = getsoup(uri)\n",
    "    article = songdetail_soap.find('article', class_='post-content')\n",
    "    if article is None:\n",
    "        pass\n",
    "    movie_information_ele = article.find('fieldset', id='movie-handle')\n",
    "    movie_information = movie_information_ele.text.strip()\n",
    "    information_collection = movie_information.split('\\n')\n",
    "    #Casts\n",
    "    starring_text = list(filter(lambda x: 'Starring' in x, information_collection))[0].strip().split(':')[1]\n",
    "    casts = [cast.strip() for cast in re.split(r',|&', starring_text)]\n",
    "\n",
    "    #Music\n",
    "    music_text = list(filter(lambda x: 'Music' in x, information_collection))[0].strip().split(':')[1]\n",
    "    music_directors = [director.strip() for director in re.split(r',|&', music_text)]\n",
    "\n",
    "    #Director\n",
    "    director_text = list(filter(lambda x: 'Director' in x, information_collection))[0].strip().split(':')[1]\n",
    "    directors = [director.strip() for director in re.split(r',|&', director_text)]\n",
    "\n",
    "    #Lyrics \n",
    "    lyrics_text = list(filter(lambda x: 'Lyrics' in x, information_collection))[0].strip().split(':')[1]\n",
    "    lyric_writers = [writer.strip() for writer in re.split(r',|&', lyrics_text)]\n",
    "\n",
    "    #Year\n",
    "    year = list(filter(lambda x: 'Year' in x, information_collection))[0].strip().split(':')[1]\n",
    "\n",
    "    #Language\n",
    "    language = list(filter(lambda x: 'Language' in x, information_collection))[0].strip().split(':')[1]\n",
    "\n",
    "    #like & dislike\n",
    "    rating_el = article.find('div', class_='rating')\n",
    "    like = rating_el.find('button', id = 'like').find('span', id = 'lcnt').text\n",
    "    dislike = rating_el.find('button', id = 'dlike').find('span', id = 'dcnt').text\n",
    "\n",
    "    #movie songs\n",
    "    track_table = article.find('table', id='tlist')\n",
    "    if track_table is None:\n",
    "        return None\n",
    "    \n",
    "    track_trs = track_table.find_all('tr', attrs={'itemprop':'itemListElement'})\n",
    "\n",
    "    track_info_tds = [track_tr.find('td') for track_tr in track_trs]\n",
    "    \n",
    "    track_infos = []\n",
    "\n",
    "    for track_info_td in track_info_tds:\n",
    "        link_element = track_info_td.find('a')\n",
    "        if link_element is None:\n",
    "            break\n",
    "        track_infos.append({\"Track_Name\": track_info_td.find('a').text, \"Track_Href\": baseurl + track_info_td.find('a').get('href')})\n",
    "    \n",
    "    #track_infos = [{\n",
    "    #    \"Track_Name\": track_info_td.find('a').text,\n",
    "    #    \"Track_Href\": baseurl + track_info_td.find('a').get('href')\n",
    "    #}, track_info_td if track_info_td is not None else pass track_info_td.find('td') is not None for track_info_td in track_info_tds]\n",
    "\n",
    "    movie_detail = {\n",
    "        \"id\": id,\n",
    "        \"Name\": title,\n",
    "        \"Casts\": casts,\n",
    "        \"Music_Director\": music_directors,\n",
    "        \"Director\": directors,\n",
    "        \"Lyricist\": lyric_writers,\n",
    "        \"Year\": year.strip(),\n",
    "        \"Language\": language.strip(),\n",
    "        \"Likes\": like,\n",
    "        \"Dislikes\": dislike,\n",
    "        \"Tracks\": track_infos\n",
    "    }\n",
    "    return movie_detail"
   ]
  },
  {
   "cell_type": "code",
   "execution_count": null,
   "metadata": {},
   "outputs": [],
   "source": [
    "cur.execute('ALTER TABLE MoviePage ADD COLUMN IsProcessed BIT DEFAULT 0')"
   ]
  },
  {
   "cell_type": "code",
   "execution_count": null,
   "metadata": {},
   "outputs": [],
   "source": [
    "cur.execute('ALTER TABLE MoviePage ADD COLUMN IsErrorProcessed BIT DEFAULT 0')"
   ]
  },
  {
   "cell_type": "code",
   "execution_count": null,
   "metadata": {},
   "outputs": [],
   "source": [
    "create_movie_detail_table_query = 'CREATE TABLE IF NOT EXISTS MovieDetail(Id, Name, Casts, MusicDirectors, Directors, Lyricists, Year, Language, Likes, Dislikes, Tracks)'\n",
    "cur.execute(create_movie_detail_table_query)"
   ]
  },
  {
   "cell_type": "code",
   "execution_count": null,
   "metadata": {},
   "outputs": [],
   "source": [
    "cur.execute('ALTER TABLE MovieDetail ADD COLUMN IsProcessed BIT DEFAULT 0')"
   ]
  },
  {
   "cell_type": "code",
   "execution_count": null,
   "metadata": {},
   "outputs": [],
   "source": [
    "start_time = time.time()\n",
    "while 1:\n",
    "    select_query_movie_page = 'SELECT * FROM MoviePage WHERE IsProcessed = 0 LIMIT 10'\n",
    "    movie_page = cur.execute(select_query_movie_page)\n",
    "    movie_page_res = movie_page.fetchall()\n",
    "    with concurrent.futures.ThreadPoolExecutor(max_workers=10) as executor:\n",
    "        tasks = {executor.submit(get_detail, movie_res[0], movie_res[2], movie_res[1]): movie_res for movie_res in movie_page_res}\n",
    "        for task in concurrent.futures.as_completed(tasks):\n",
    "            try:\n",
    "                currentTask = task.result()\n",
    "                if currentTask is not None:\n",
    "                    #print(currentTask)\n",
    "                    insert_movie_detail_query = 'INSERT INTO MovieDetail VALUES(?, ?, ?, ?, ?, ?, ?, ?, ?, ?, ?, ?)'\n",
    "                    movie_detail_value = [str(uuid.uuid4()), currentTask.get('Name'), json.dumps(currentTask.get('Casts')), json.dumps(currentTask.get('Music_Director')), json.dumps(currentTask.get('Director')), json.dumps(currentTask.get('Lyricist')), currentTask.get('Year'), currentTask.get('Language'), currentTask.get('Likes'), currentTask.get('Dislikes'), json.dumps(currentTask.get('Tracks')), 0]\n",
    "                    cur.execute(insert_movie_detail_query, movie_detail_value)\n",
    "                    connection.commit()\n",
    "                    update_movie_page_query = 'UPDATE MoviePage SET IsProcessed = 1 WHERE Id = ?'\n",
    "                    cur.execute(update_movie_page_query, [currentTask.get('id')])\n",
    "                    connection.commit()\n",
    "            except Exception as exc:\n",
    "                print(tasks[task], exc)\n",
    "            \n",
    "        end_time = time.time()\n",
    "        time_difference = (end_time - start_time) // 60\n",
    "        #print(time_difference)\n",
    "        if time_difference >= 1:\n",
    "            print(time_difference)\n",
    "            break"
   ]
  },
  {
   "cell_type": "code",
   "execution_count": 261,
   "metadata": {},
   "outputs": [],
   "source": [
    "start_time = time.time()\n",
    "while 1:\n",
    "    select_query_movie_page = 'SELECT * FROM MoviePage WHERE IsProcessed = 0 AND IsErrorProcessed = 0 LIMIT 1'\n",
    "    movie_page = cur.execute(select_query_movie_page)\n",
    "    movie_page_res = movie_page.fetchall()\n",
    "    if movie_page_res is None or len(movie_page_res) == 0:\n",
    "        break\n",
    "    try:\n",
    "        for movie_page in movie_page_res:\n",
    "            currentTask = get_detail(movie_page[0], movie_page[2], movie_page[1])\n",
    "            if currentTask is not None:\n",
    "                #print(currentTask)\n",
    "                insert_movie_detail_query = 'INSERT INTO MovieDetail VALUES(?, ?, ?, ?, ?, ?, ?, ?, ?, ?, ?, ?)'\n",
    "                movie_detail_value = [str(uuid.uuid4()), currentTask.get('Name'), json.dumps(currentTask.get('Casts')), json.dumps(currentTask.get('Music_Director')), json.dumps(currentTask.get('Director')), json.dumps(currentTask.get('Lyricist')), currentTask.get('Year'), currentTask.get('Language'), currentTask.get('Likes'), currentTask.get('Dislikes'), json.dumps(currentTask.get('Tracks')), 0]\n",
    "                cur.execute(insert_movie_detail_query, movie_detail_value)\n",
    "                connection.commit()\n",
    "                update_movie_page_query = 'UPDATE MoviePage SET IsProcessed = 1 WHERE Id = ?'\n",
    "                cur.execute(update_movie_page_query, [currentTask.get('id')])\n",
    "                connection.commit()\n",
    "            else:\n",
    "                update_movie_page_error_query = 'UPDATE MoviePage SET IsErrorProcessed = 1 WHERE Id = ?'\n",
    "                cur.execute(update_movie_page_error_query, [movie_page[0]])\n",
    "                connection.commit()\n",
    "    except Exception as exc:\n",
    "        print(exc, movie_page_res)\n",
    "\n",
    "    if movie_page_res is None:\n",
    "        break\n",
    "\n",
    "    end_time = time.time()\n",
    "    time_difference = (end_time - start_time) // 60\n",
    "    #print(time_difference)\n",
    "    if time_difference >= 1:\n",
    "        print(time_difference)\n",
    "        break\n",
    "    "
   ]
  },
  {
   "cell_type": "code",
   "execution_count": null,
   "metadata": {},
   "outputs": [],
   "source": [
    "select_movie_query = 'SELECT * FROM MoviePage'\n",
    "movie_page_res = cur.execute(select_movie_query)\n",
    "movie_page_res_obj = movie_page_res.fetchone()\n",
    "data = get_detail(uuid.uuid4(), 'https://tamilpaatu.com/netrikann-songs-1', 'test')\n",
    "print(data)"
   ]
  }
 ],
 "metadata": {
  "kernelspec": {
   "display_name": "Python 3",
   "language": "python",
   "name": "python3"
  },
  "language_info": {
   "codemirror_mode": {
    "name": "ipython",
    "version": 3
   },
   "file_extension": ".py",
   "mimetype": "text/x-python",
   "name": "python",
   "nbconvert_exporter": "python",
   "pygments_lexer": "ipython3",
   "version": "3.11.3"
  },
  "orig_nbformat": 4
 },
 "nbformat": 4,
 "nbformat_minor": 2
}
