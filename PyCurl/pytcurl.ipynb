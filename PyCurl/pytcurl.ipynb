{
 "cells": [
  {
   "cell_type": "code",
   "execution_count": 128,
   "metadata": {},
   "outputs": [],
   "source": [
    "from bs4 import BeautifulSoup\n",
    "import requests\n",
    "import html5lib\n",
    "import sqlite3\n",
    "import uuid\n",
    "import re\n",
    "import json"
   ]
  },
  {
   "cell_type": "code",
   "execution_count": 35,
   "metadata": {},
   "outputs": [],
   "source": [
    "connection = sqlite3.connect('MovieData.db')\n",
    "cur = connection.cursor()"
   ]
  },
  {
   "cell_type": "code",
   "execution_count": 36,
   "metadata": {},
   "outputs": [
    {
     "data": {
      "text/plain": [
       "<sqlite3.Cursor at 0x10cc434c0>"
      ]
     },
     "execution_count": 36,
     "metadata": {},
     "output_type": "execute_result"
    }
   ],
   "source": [
    "table1 = 'CREATE TABLE IF NOT EXISTS MovieIndex(Id, Name, Url)'\n",
    "cur.execute(table1)"
   ]
  },
  {
   "cell_type": "code",
   "execution_count": 37,
   "metadata": {},
   "outputs": [],
   "source": [
    "baseurl = 'https://tamilpaatu.com'\n",
    "requesturl = baseurl + '/movie-index'"
   ]
  },
  {
   "cell_type": "code",
   "execution_count": 38,
   "metadata": {},
   "outputs": [],
   "source": [
    "def getsoup(url):\n",
    "    headers = {'User-Agent': \"Mozilla/5.0 (Macintosh; Intel Mac OS X 10_15_7) AppleWebKit/537.36 (KHTML, like Gecko) Chrome/114.0.0.0 Safari/537.36\"}\n",
    "    source = requests.get(url, headers= headers)\n",
    "    return BeautifulSoup(source.content, 'html5lib')"
   ]
  },
  {
   "cell_type": "code",
   "execution_count": 39,
   "metadata": {},
   "outputs": [],
   "source": [
    "movieindexpage = getsoup(requesturl)\n",
    "tagDiv = movieindexpage.find('div', class_='tagdiv')\n",
    "movieIndex = tagDiv.find_all('a')\n",
    "for el in movieIndex:\n",
    "    indexname = el.text\n",
    "    url = baseurl + el.get('href')\n",
    "    indexquery = 'SELECT 1 FROM MovieIndex WHERE Url = ?'\n",
    "    indexres = cur.execute(indexquery, [url])\n",
    "    if indexres.fetchone() is None:\n",
    "        cur.execute('INSERT INTO MovieIndex VALUES (?, ?, ?)', [str(uuid.uuid4()), indexname, url])"
   ]
  },
  {
   "cell_type": "code",
   "execution_count": 40,
   "metadata": {},
   "outputs": [],
   "source": [
    "connection.commit()"
   ]
  },
  {
   "cell_type": "code",
   "execution_count": 24,
   "metadata": {},
   "outputs": [
    {
     "data": {
      "text/plain": [
       "<sqlite3.Cursor at 0x10cb22440>"
      ]
     },
     "execution_count": 24,
     "metadata": {},
     "output_type": "execute_result"
    }
   ],
   "source": [
    "table2 = 'CREATE TABLE IF NOT EXISTS MoviePage(Id, Name, Url, WebpSrc, JpegSrc)'\n",
    "cur.execute(table2)"
   ]
  },
  {
   "cell_type": "code",
   "execution_count": 58,
   "metadata": {},
   "outputs": [],
   "source": [
    "song_pages = []\n",
    "retrive_pages = []\n",
    "def page_data_parse(href):\n",
    "    songpage = getsoup(href)\n",
    "    songscontainer = songpage.find('div', class_='botlist')\n",
    "    if songscontainer is None:\n",
    "        if href not in retrive_pages:\n",
    "            retrive_pages.append(href)\n",
    "        return\n",
    "    songs = songscontainer.find_all('div', class_='a-i')\n",
    "    for song in songs:\n",
    "        el = song.find('a')\n",
    "        song_href = baseurl + el.get('href')\n",
    "        picture = el.find('picture')\n",
    "        webp_src = baseurl + picture.find_all('source')[0].get('srcset')\n",
    "        jpeg_src = baseurl + picture.find_all('source')[1].get('srcset')\n",
    "        info = el.find('div', class_='info')\n",
    "        title = info.find('h2').text\n",
    "        \n",
    "        song_query = 'SELECT 1 FROM MoviePage WHERE Url = ?'\n",
    "        song_res = cur.execute(song_query, [song_href])\n",
    "        if song_res.fetchone() is None:\n",
    "            song_insert_query = 'INSERT INTO MoviePage VALUES (?, ?, ?, ?, ?)'\n",
    "            cur.execute(song_insert_query, [str(uuid.uuid4()), title, song_href, webp_src, jpeg_src])\n",
    "            connection.commit()\n",
    "            \n",
    "        if song_href not in song_pages:\n",
    "            song_pages.append(song.find('a').get('href'))\n",
    "\n",
    "    pagination_container = songscontainer.find('nav', class_='pagination')\n",
    "    next_page_container = pagination_container.find('span', class_='next')\n",
    "    next_page = next_page_container.find('a')\n",
    "    \n",
    "    if href in retrive_pages:\n",
    "        retrive_pages.remove(href)\n",
    "\n",
    "    if next_page is None:\n",
    "        return\n",
    "    next_page_href = next_page.get('href')\n",
    "    page_data_parse(baseurl + next_page_href)"
   ]
  },
  {
   "cell_type": "code",
   "execution_count": 59,
   "metadata": {},
   "outputs": [],
   "source": [
    "movie_index_query = 'SELECT Url FROM MovieIndex'\n",
    "movie_index_res = cur.execute(movie_index_query)\n",
    "movieIndexHref = movie_index_res.fetchall()\n",
    "for moviepage in movieIndexHref:    \n",
    "    page_data_parse(moviepage[0])"
   ]
  },
  {
   "cell_type": "code",
   "execution_count": 60,
   "metadata": {},
   "outputs": [],
   "source": [
    "while 1:\n",
    "    for moviepage in retrive_pages:\n",
    "        page_data_parse(moviepage)\n",
    "    if len(retrive_pages) == 0:\n",
    "        break"
   ]
  },
  {
   "cell_type": "code",
   "execution_count": 151,
   "metadata": {},
   "outputs": [],
   "source": [
    "def get_detail(uri, title):\n",
    "    songdetail_soap = getsoup(uri)\n",
    "    article = songdetail_soap.find('article', class_='post-content')\n",
    "    if article is None:\n",
    "        pass\n",
    "    movie_information_ele = article.find('fieldset', id='movie-handle')\n",
    "    movie_information = movie_information_ele.text.strip()\n",
    "    information_collection = movie_information.split('\\n')\n",
    "    #Casts\n",
    "    starring_text = list(filter(lambda x: 'Starring' in x, information_collection))[0].strip().split(':')[1]\n",
    "    casts = [cast.strip() for cast in re.split(r',|&', starring_text)]\n",
    "\n",
    "    #Music\n",
    "    music_text = list(filter(lambda x: 'Music' in x, information_collection))[0].strip().split(':')[1]\n",
    "    music_directors = [director.strip() for director in re.split(r',|&', music_text)]\n",
    "\n",
    "    #Director\n",
    "    director_text = list(filter(lambda x: 'Director' in x, information_collection))[0].strip().split(':')[1]\n",
    "    directors = [director.strip() for director in re.split(r',|&', director_text)]\n",
    "\n",
    "    #Lyrics \n",
    "    lyrics_text = list(filter(lambda x: 'Lyrics' in x, information_collection))[0].strip().split(':')[1]\n",
    "    lyric_writers = [writer.strip() for writer in re.split(r',|&', lyrics_text)]\n",
    "\n",
    "    #Year\n",
    "    year = list(filter(lambda x: 'Year' in x, information_collection))[0].strip().split(':')[1]\n",
    "\n",
    "    #Language\n",
    "    language = list(filter(lambda x: 'Language' in x, information_collection))[0].strip().split(':')[1]\n",
    "\n",
    "    #like & dislike\n",
    "    rating_el = article.find('div', class_='rating')\n",
    "    like = rating_el.find('button', id = 'like').find('span', id = 'lcnt').text\n",
    "    dislike = rating_el.find('button', id = 'dlike').find('span', id = 'dcnt').text\n",
    "\n",
    "    #movie songs\n",
    "    track_table = article.find('table', id='tlist')\n",
    "    track_trs = track_table.find_all('tr', attrs={'itemprop':'itemListElement'})\n",
    "\n",
    "    track_info_tds = [track_tr.find('td') for track_tr in track_trs]\n",
    "\n",
    "    track_infos = [{\n",
    "        \"Track_Name\": track_info_td.find('a').text,\n",
    "        \"Track_Href\": baseurl + track_info_td.find('a').get('href')\n",
    "    } for track_info_td in track_info_tds]\n",
    "\n",
    "    movie_detail = {\n",
    "        \"Name\": title,\n",
    "        \"Casts\": casts,\n",
    "        \"Music_Director\": music_directors,\n",
    "        \"Director\": directors,\n",
    "        \"Lyricist\": lyric_writers,\n",
    "        \"Year\": year.strip(),\n",
    "        \"Language\": language.strip(),\n",
    "        \"Likes\": like,\n",
    "        \"Dislikes\": dislike,\n",
    "        \"Tracks\": track_infos\n",
    "    }\n",
    "    return movie_detail"
   ]
  },
  {
   "cell_type": "code",
   "execution_count": 152,
   "metadata": {},
   "outputs": [
    {
     "name": "stdout",
     "output_type": "stream",
     "text": [
      "{\"Name\": \"1 Pandu 4 Run 1 Wicket\", \"Casts\": [\"Vinai Krishna\", \"Hashika Dutt\", \"Sriman\", \"Senrayan\"], \"Music_Director\": [\"Karthik Nallamuthu\"], \"Director\": [\"Veera\"], \"Lyricist\": [\"Na. Muthukumar\", \"Snehan\", \"Kosimin\"], \"Year\": \"2014\", \"Language\": \"Tamil\", \"Likes\": \"1\", \"Dislikes\": \"2\"}\n",
      "[{'Track_Name': '1 Pandhu 4 Run 1 Wicket', 'Track_Href': 'https://tamilpaatu.com/1068/1-pandhu-4-run-1-wicket-mp3-song-1'}, {'Track_Name': 'Kalgal Rendum', 'Track_Href': 'https://tamilpaatu.com/1068/kalgal-rendum-mp3-song-1'}, {'Track_Name': 'Parallum Pandi', 'Track_Href': 'https://tamilpaatu.com/1068/parallum-pandi-mp3-song-1'}, {'Track_Name': 'Theme Music', 'Track_Href': 'https://tamilpaatu.com/1068/theme-music-mp3-song-1'}, {'Track_Name': 'Un Tholil', 'Track_Href': 'https://tamilpaatu.com/1068/un-tholil-mp3-song-1'}, {'Track_Name': 'Veesum Katril', 'Track_Href': 'https://tamilpaatu.com/1068/veesum-katril-mp3-song-1'}]\n"
     ]
    }
   ],
   "source": [
    "select_movie_query = 'SELECT * FROM MoviePage'\n",
    "movie_page_res = cur.execute(select_movie_query)\n",
    "movie_page_res_obj = movie_page_res.fetchone()\n",
    "get_detail(movie_page_res_obj[2], movie_page_res_obj[1])"
   ]
  }
 ],
 "metadata": {
  "kernelspec": {
   "display_name": "Python 3",
   "language": "python",
   "name": "python3"
  },
  "language_info": {
   "codemirror_mode": {
    "name": "ipython",
    "version": 3
   },
   "file_extension": ".py",
   "mimetype": "text/x-python",
   "name": "python",
   "nbconvert_exporter": "python",
   "pygments_lexer": "ipython3",
   "version": "3.11.3"
  },
  "orig_nbformat": 4
 },
 "nbformat": 4,
 "nbformat_minor": 2
}
